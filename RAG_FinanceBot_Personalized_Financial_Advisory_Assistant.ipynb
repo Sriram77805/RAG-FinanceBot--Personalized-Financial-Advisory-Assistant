{
  "nbformat": 4,
  "nbformat_minor": 0,
  "metadata": {
    "colab": {
      "provenance": []
    },
    "kernelspec": {
      "name": "python3",
      "display_name": "Python 3"
    },
    "language_info": {
      "name": "python"
    }
  },
  "cells": [
    {
      "cell_type": "code",
      "execution_count": 14,
      "metadata": {
        "id": "cDuqAPkxoZ3J"
      },
      "outputs": [],
      "source": [
        "!pip install faiss-cpu chromadb google-generativeai"
      ]
    },
    {
      "cell_type": "code",
      "source": [
        "import os\n",
        "import yfinance as yf\n",
        "import faiss\n",
        "import chromadb\n",
        "import numpy as np\n",
        "from sentence_transformers import SentenceTransformer\n",
        "from google.colab import drive\n",
        "import google.generativeai as genai"
      ],
      "metadata": {
        "id": "-0D2l8LhpA8g"
      },
      "execution_count": 2,
      "outputs": []
    },
    {
      "cell_type": "code",
      "source": [
        "drive.mount('/content/drive')"
      ],
      "metadata": {
        "id": "tUvbAHuapGrg"
      },
      "execution_count": 14,
      "outputs": []
    },
    {
      "cell_type": "code",
      "source": [
        "# Paths for FAISS and ChromaDB storage\n",
        "FAISS_PATH = \"/content/drive/MyDrive/faiss_index.bin\" # Path to FAISS\n",
        "CHROMA_PATH = \"/content/drive/MyDrive/chroma_db\" # Path to CHROMA DB"
      ],
      "metadata": {
        "id": "Er7TQEahpKLb"
      },
      "execution_count": 4,
      "outputs": []
    },
    {
      "cell_type": "code",
      "source": [
        "# Load or initialize FAISS index\n",
        "embedding_dim = 384  # Dimension for MiniLM embeddings\n",
        "if os.path.exists(FAISS_PATH):\n",
        "    index = faiss.read_index(FAISS_PATH)\n",
        "else:\n",
        "    index = faiss.IndexFlatL2(embedding_dim)"
      ],
      "metadata": {
        "id": "ioe-y1wApPRF"
      },
      "execution_count": 5,
      "outputs": []
    },
    {
      "cell_type": "code",
      "source": [
        "# Load or initialize ChromaDB\n",
        "chroma_client = chromadb.PersistentClient(path=CHROMA_PATH)\n",
        "chroma_collection = chroma_client.get_or_create_collection(name=\"stocks\")"
      ],
      "metadata": {
        "id": "6y_k4YwlpTtY"
      },
      "execution_count": 6,
      "outputs": []
    },
    {
      "cell_type": "code",
      "source": [
        "# Load sentence transformer model\n",
        "model = SentenceTransformer(\"sentence-transformers/all-MiniLM-L6-v2\")"
      ],
      "metadata": {
        "id": "CaXKUFcopWzm"
      },
      "execution_count": 14,
      "outputs": []
    },
    {
      "cell_type": "code",
      "source": [
        "def get_stock_data(ticker):\n",
        "    stock = yf.Ticker(ticker)\n",
        "    info = stock.info\n",
        "    return info.get(\"longBusinessSummary\", \"No summary available.\")"
      ],
      "metadata": {
        "id": "nC1nyyAMpn0t"
      },
      "execution_count": 8,
      "outputs": []
    },
    {
      "cell_type": "code",
      "source": [
        "def update_embeddings(tickers):\n",
        "    for ticker in tickers:\n",
        "        if not chroma_collection.get(ticker):\n",
        "            summary = get_stock_data(ticker)\n",
        "            embedding = model.encode(summary).tolist()\n",
        "            chroma_collection.add(id=ticker, embeddings=[embedding])\n",
        "            index.add(np.array([embedding]))\n",
        "    faiss.write_index(index, FAISS_PATH)"
      ],
      "metadata": {
        "id": "_pQaP-l9psX4"
      },
      "execution_count": 9,
      "outputs": []
    },
    {
      "cell_type": "code",
      "source": [
        "# Ask user for investment preferences\n",
        "preferences = input(\"Enter your investment preferences (e.g., high ROI, low volatility, sustainable growth): \")\n",
        "pref_embedding = model.encode(preferences).reshape(1, -1)"
      ],
      "metadata": {
        "id": "M2fWq3--pvN3"
      },
      "execution_count": 14,
      "outputs": []
    },
    {
      "cell_type": "code",
      "source": [
        "# Retrieve the best-matching stocks\n",
        "_, indices = index.search(pref_embedding, k=5)"
      ],
      "metadata": {
        "id": "3RTjGQzqpz6l"
      },
      "execution_count": 11,
      "outputs": []
    },
    {
      "cell_type": "code",
      "source": [
        "# Filter out invalid indices (-1) before retrieving tickers\n",
        "valid_indices = [idx for idx in indices[0] if idx != -1]"
      ],
      "metadata": {
        "id": "E3ffnjM1p2w9"
      },
      "execution_count": 12,
      "outputs": []
    },
    {
      "cell_type": "code",
      "source": [
        "# Default stock recommendations\n",
        "default_stocks = [\"AAPL\", \"MSFT\", \"GOOGL\", \"AMZN\", \"TSLA\"]"
      ],
      "metadata": {
        "id": "bDqxLioVr_rn"
      },
      "execution_count": 13,
      "outputs": []
    },
    {
      "cell_type": "code",
      "source": [
        "# Default stock recommendations\n",
        "default_stocks = [\"AAPL\", \"MSFT\", \"GOOGL\", \"AMZN\", \"TSLA\"]\n",
        "\n",
        "# Check if there are valid recommendations\n",
        "if not valid_indices:\n",
        "    print(\"No relevant stock data found based on your preferences.\")\n",
        "    print(\"Here are 5 top stock recommendations instead:\")\n",
        "    recommended_tickers = default_stocks\n",
        "else:\n",
        "    # Retrieve documents using IDs from valid_indices\n",
        "    recommended_tickers = [chroma_collection.get(ids=[str(idx)])['ids'][0] for idx in valid_indices]"
      ],
      "metadata": {
        "id": "qY6O5vlrsDKH"
      },
      "execution_count": 14,
      "outputs": []
    },
    {
      "cell_type": "code",
      "source": [
        "# Print recommended stocks\n",
        "print(\"Top 5 Recommended Stocks:\")\n",
        "for ticker in recommended_tickers:\n",
        "    print(f\"- {ticker}\")"
      ],
      "metadata": {
        "id": "DNBHecrHsG2L"
      },
      "execution_count": null,
      "outputs": []
    },
    {
      "cell_type": "code",
      "source": [
        "class GeminiAPI:\n",
        "    def __init__(self, api_key):\n",
        "        genai.configure(api_key=api_key)\n",
        "        self.model = genai.GenerativeModel(\"gemini-1.5-flash\")\n",
        "\n",
        "    def explain_stock_choice(self, ticker, preferences):\n",
        "        prompt = f\"Explain why someone interested in {preferences} might choose to invest in {ticker}.\"\n",
        "        response = self.model.generate_content(prompt)\n",
        "        return response.text"
      ],
      "metadata": {
        "id": "XHRtnVrIsJt_"
      },
      "execution_count": null,
      "outputs": []
    },
    {
      "cell_type": "code",
      "source": [
        "from IPython.display import Markdown\n",
        "\n",
        "gemini = GeminiAPI(api_key=\"\") # Use your key\n",
        "\n",
        "# Initialize an empty string to store the markdown text\n",
        "markdown_text = \"# Recommended Stocks\\n\\n\"\n",
        "\n",
        "# Fetch explanations and store them in markdown format\n",
        "for ticker in recommended_tickers:\n",
        "    explanation = gemini.explain_stock_choice(ticker, preferences)\n",
        "    markdown_text += f\"## Stock: {ticker}\\n### Reason:\\n{explanation}\\n\\n\"\n",
        "\n",
        "# Display the markdown output\n",
        "display(Markdown(markdown_text))"
      ],
      "metadata": {
        "id": "QkRuQxftsKca"
      },
      "execution_count": null,
      "outputs": []
    }
  ]
}